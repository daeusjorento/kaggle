{
 "cells": [
  {
   "cell_type": "code",
   "execution_count": 1,
   "id": "ba58d79f",
   "metadata": {},
   "outputs": [],
   "source": [
    "## Kaggle: https://www.kaggle.com/code/tacyonlord/youtube-title-generator-markov-chains/notebook"
   ]
  },
  {
   "cell_type": "code",
   "execution_count": 2,
   "id": "aa6de592",
   "metadata": {},
   "outputs": [],
   "source": [
    "def Read_file(FileName):\n",
    "    with open(FileName,'r') as file:\n",
    "        for line in file: #The delimiter for a file is \\n by default\n",
    "            for word in line.replace('\\n','').split(' '): #Splits according to space and replaces '\\n' by nothing\n",
    "                yield word #Returns a sequnce/ series of words\n",
    "Words = Read_file('Title_Data.txt')"
   ]
  },
  {
   "cell_type": "code",
   "execution_count": 3,
   "id": "ac0572a4",
   "metadata": {},
   "outputs": [
    {
     "data": {
      "text/plain": [
       "generator"
      ]
     },
     "execution_count": 3,
     "metadata": {},
     "output_type": "execute_result"
    }
   ],
   "source": [
    "type(Words)"
   ]
  },
  {
   "cell_type": "code",
   "execution_count": 11,
   "id": "bce50d28",
   "metadata": {},
   "outputs": [],
   "source": [
    "def Read_file(FileName):\n",
    "    with open(FileName, 'r') as file:\n",
    "        for line in file:\n",
    "            for word in line.replace('\\n', '').split(' '):\n",
    "                yield word\n",
    "\n",
    "Words = Read_file('Title_Data.txt')\n",
    "\n",
    "from collections import defaultdict\n",
    "\n",
    "def assemble_chain(Words):\n",
    "    chain = defaultdict(list)\n",
    "    try:\n",
    "        word, next_word = next(Words), next(Words)\n",
    "        while True:\n",
    "            chain[word].append(next_word)\n",
    "            word, next_word = next_word, next(Words)\n",
    "    except StopIteration:\n",
    "        return chain\n",
    "\n",
    "# Create the random word generator\n",
    "from random import choice\n",
    "\n",
    "def random_word(sample):\n",
    "    return choice(list(sample))\n",
    "\n",
    "# Create a chain based on the first state\n",
    "\n",
    "Chain = assemble_chain(Words)  # You need to assemble the chain before using it in random_title\n",
    "\n",
    "def random_title(Sample):\n",
    "    word = random_word(['I', 'My'])\n",
    "    i = 0.0\n",
    "    while True:\n",
    "        yield word\n",
    "        if word in Sample:\n",
    "            word = random_word(Sample[word])\n",
    "        else:\n",
    "            i = i + 1\n",
    "            word = random_word(Sample)\n",
    "        if word[-1] == '.' or word[-1] == '!' or word[-1] == '?':\n",
    "            yield word\n",
    "            break"
   ]
  },
  {
   "cell_type": "code",
   "execution_count": 12,
   "id": "207a9d0a",
   "metadata": {},
   "outputs": [
    {
     "name": "stdout",
     "output_type": "stream",
     "text": [
      "My Gf Posted All The Same Time.\n"
     ]
    }
   ],
   "source": [
    "Title = random_title(Chain)\n",
    "T_l = list(Title)\n",
    "print(*T_l, sep=' ')"
   ]
  },
  {
   "cell_type": "code",
   "execution_count": 13,
   "id": "743fcb7a",
   "metadata": {},
   "outputs": [
    {
     "name": "stdout",
     "output_type": "stream",
     "text": [
      "I Am A Strict Mom But They Caught My Father Left Me With Dwarfism.\n"
     ]
    }
   ],
   "source": [
    "Title = random_title(Chain)\n",
    "T_l = list(Title)\n",
    "print(*T_l, sep=' ')"
   ]
  },
  {
   "cell_type": "code",
   "execution_count": 15,
   "id": "fa8686a8",
   "metadata": {},
   "outputs": [
    {
     "name": "stdout",
     "output_type": "stream",
     "text": [
      "I Was Destroyed By The Truth Was A UFO And Got Obsessed.\n"
     ]
    }
   ],
   "source": [
    "Title = random_title(Chain)\n",
    "T_l = list(Title)\n",
    "print(*T_l, sep=' ')"
   ]
  },
  {
   "cell_type": "code",
   "execution_count": null,
   "id": "ec50a051",
   "metadata": {},
   "outputs": [],
   "source": []
  }
 ],
 "metadata": {
  "kernelspec": {
   "display_name": "Python 3 (ipykernel)",
   "language": "python",
   "name": "python3"
  },
  "language_info": {
   "codemirror_mode": {
    "name": "ipython",
    "version": 3
   },
   "file_extension": ".py",
   "mimetype": "text/x-python",
   "name": "python",
   "nbconvert_exporter": "python",
   "pygments_lexer": "ipython3",
   "version": "3.9.16"
  }
 },
 "nbformat": 4,
 "nbformat_minor": 5
}
